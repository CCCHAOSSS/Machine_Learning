{
 "cells": [
  {
   "cell_type": "markdown",
   "metadata": {},
   "source": [
    "# 模型的选择问题\n",
    "##### 主要知识点为偏差和方差，训练集&验证集&测试集\n",
    "需要先对一个水库的流出水量以及水库水位进行正则化线性归回，然后将会探讨方差-偏差的问题\n",
    "##### 数据集：ex5data1.mat"
   ]
  },
  {
   "cell_type": "code",
   "execution_count": 1,
   "metadata": {},
   "outputs": [],
   "source": [
    "import numpy as np\n",
    "import scipy.io as sio\n",
    "import scipy.optimize as opt\n",
    "import pandas as pd\n",
    "import matplotlib.pyplot as plt"
   ]
  },
  {
   "cell_type": "markdown",
   "metadata": {},
   "source": [
    "### 1.导入数据并展示"
   ]
  },
  {
   "cell_type": "code",
   "execution_count": 2,
   "metadata": {},
   "outputs": [
    {
     "data": {
      "text/plain": [
       "dict_keys(['__header__', '__version__', '__globals__', 'X', 'y', 'Xtest', 'ytest', 'Xval', 'yval'])"
      ]
     },
     "execution_count": 2,
     "metadata": {},
     "output_type": "execute_result"
    }
   ],
   "source": [
    "#导入数据\n",
    "data = sio.loadmat('ex5data1.mat')\n",
    "data.keys()"
   ]
  },
  {
   "cell_type": "code",
   "execution_count": 3,
   "metadata": {},
   "outputs": [
    {
     "data": {
      "text/plain": [
       "array([[-15.93675813],\n",
       "       [-29.15297922],\n",
       "       [ 36.18954863],\n",
       "       [ 37.49218733],\n",
       "       [-48.05882945],\n",
       "       [ -8.94145794],\n",
       "       [ 15.30779289],\n",
       "       [-34.70626581],\n",
       "       [  1.38915437],\n",
       "       [-44.38375985],\n",
       "       [  7.01350208],\n",
       "       [ 22.76274892]])"
      ]
     },
     "execution_count": 3,
     "metadata": {},
     "output_type": "execute_result"
    }
   ],
   "source": [
    "#训练集\n",
    "X_train,y_train = data['X'],data['y']\n",
    "X_train.shape,y_train.shape\n",
    "X_train"
   ]
  },
  {
   "cell_type": "code",
   "execution_count": 4,
   "metadata": {},
   "outputs": [
    {
     "data": {
      "text/plain": [
       "((21, 1), (21, 1))"
      ]
     },
     "execution_count": 4,
     "metadata": {},
     "output_type": "execute_result"
    }
   ],
   "source": [
    "#验证集\n",
    "X_val,y_val = data['Xval'],data['yval']\n",
    "X_val.shape,y_val.shape"
   ]
  },
  {
   "cell_type": "code",
   "execution_count": 5,
   "metadata": {},
   "outputs": [
    {
     "data": {
      "text/plain": [
       "((21, 1), (21, 1))"
      ]
     },
     "execution_count": 5,
     "metadata": {},
     "output_type": "execute_result"
    }
   ],
   "source": [
    "#测试集\n",
    "X_test,y_test = data['Xtest'],data['ytest']\n",
    "X_test.shape,y_test.shape"
   ]
  },
  {
   "cell_type": "code",
   "execution_count": 6,
   "metadata": {},
   "outputs": [
    {
     "data": {
      "text/plain": [
       "array([[  1.        , -15.93675813],\n",
       "       [  1.        , -29.15297922],\n",
       "       [  1.        ,  36.18954863],\n",
       "       [  1.        ,  37.49218733],\n",
       "       [  1.        , -48.05882945],\n",
       "       [  1.        ,  -8.94145794],\n",
       "       [  1.        ,  15.30779289],\n",
       "       [  1.        , -34.70626581],\n",
       "       [  1.        ,   1.38915437],\n",
       "       [  1.        , -44.38375985],\n",
       "       [  1.        ,   7.01350208],\n",
       "       [  1.        ,  22.76274892]])"
      ]
     },
     "execution_count": 6,
     "metadata": {},
     "output_type": "execute_result"
    }
   ],
   "source": [
    "X_train = np.insert(X_train,0,1,axis=1)\n",
    "X_val = np.insert(X_val,0,1,axis=1)\n",
    "X_test = np.insert(X_test,0,1,axis=1)\n",
    "X_train"
   ]
  },
  {
   "cell_type": "code",
   "execution_count": 7,
   "metadata": {},
   "outputs": [],
   "source": [
    "#数据展示\n",
    "def plot_data():\n",
    "    frg,ax = plt.subplots()\n",
    "    ax.scatter(X_train[:,1],y_train)\n",
    "    ax.set(xlabel='water_level',\n",
    "          ylabel='flow')"
   ]
  },
  {
   "cell_type": "code",
   "execution_count": 8,
   "metadata": {},
   "outputs": [
    {
     "data": {
      "image/png": "[encoded data removed]",
      "text/plain": [
       "<Figure size 432x288 with 1 Axes>"
      ]
     },
     "metadata": {
      "needs_background": "light"
     },
     "output_type": "display_data"
    }
   ],
   "source": [
    "plot_data()"
   ]
  },
  {
   "cell_type": "markdown",
   "metadata": {},
   "source": [
    "### 2.代价函数及梯度"
   ]
  },
  {
   "cell_type": "code",
   "execution_count": 9,
   "metadata": {},
   "outputs": [],
   "source": [
    "#带正则化项的代价函数，lmd=0时就相当于没有正则化项\n",
    "def reg_cost(theta,X,y,lmd):\n",
    "    cost = np.sum(np.power(X@theta-y.flatten(),2))\n",
    "    reg = theta[1:]@theta[1:]*lmd #第一项不用正则化因此去掉\n",
    "    return (cost+reg)/(2*len(X))"
   ]
  },
  {
   "cell_type": "code",
   "execution_count": 10,
   "metadata": {},
   "outputs": [
    {
     "data": {
      "text/plain": [
       "303.9931922202643"
      ]
     },
     "execution_count": 10,
     "metadata": {},
     "output_type": "execute_result"
    }
   ],
   "source": [
    "theta = np.ones(X_train.shape[1]) #theta是二维的\n",
    "lmd = 1\n",
    "reg_cost(theta,X_train,y_train,lmd)"
   ]
  },
  {
   "cell_type": "code",
   "execution_count": 11,
   "metadata": {},
   "outputs": [],
   "source": [
    "#正则化项代价函数的梯度\n",
    "def reg_grad(theta,X,y,lmd):\n",
    "    grad = (X@theta-y.flatten())@X\n",
    "    reg = lmd * theta #此时theta的第一项在参与计算\n",
    "    reg[0]=0 #把theta第一项取成0这样子相当于没有参与运算，又能使得维度不变方便后面的计算\n",
    "    return (grad+reg) / (len(X))"
   ]
  },
  {
   "cell_type": "code",
   "execution_count": 12,
   "metadata": {},
   "outputs": [
    {
     "data": {
      "text/plain": [
       "array([-15.30301567, 598.25074417])"
      ]
     },
     "execution_count": 12,
     "metadata": {},
     "output_type": "execute_result"
    }
   ],
   "source": [
    "reg_grad(theta,X_train,y_train,lmd)"
   ]
  },
  {
   "cell_type": "markdown",
   "metadata": {},
   "source": [
    "### 3.求解 "
   ]
  },
  {
   "cell_type": "code",
   "execution_count": 13,
   "metadata": {},
   "outputs": [],
   "source": [
    "#使用工具库找到theta最优解\n",
    "def train_model(X,y,lmd):\n",
    "        theta = np.ones(X.shape[1])\n",
    "        res = opt.minimize(fun = reg_cost,\n",
    "                          x0 = theta,\n",
    "                          args = (X,y,lmd),\n",
    "                          method = 'TNC',\n",
    "                          jac = reg_grad)\n",
    "        return res.x"
   ]
  },
  {
   "cell_type": "code",
   "execution_count": 14,
   "metadata": {},
   "outputs": [],
   "source": [
    "#令lmd=0，因为现在训练的是2维的，正则化不会对这种低维的有很大的帮助\n",
    "theta_final = train_model(X_train,y_train,lmd=0)"
   ]
  },
  {
   "cell_type": "code",
   "execution_count": 15,
   "metadata": {},
   "outputs": [
    {
     "data": {
      "image/png": "[encoded data removed]",
      "text/plain": [
       "<Figure size 432x288 with 1 Axes>"
      ]
     },
     "metadata": {
      "needs_background": "light"
     },
     "output_type": "display_data"
    }
   ],
   "source": [
    "#画出此时拟合的图像\n",
    "plot_data()\n",
    "plt.plot(X_train[:,1],X_train@theta_final,c='r')\n",
    "plt.show()"
   ]
  },
  {
   "cell_type": "markdown",
   "metadata": {},
   "source": [
    "### 4.学习曲线 "
   ]
  },
  {
   "cell_type": "code",
   "execution_count": 16,
   "metadata": {},
   "outputs": [],
   "source": [
    "def plot_learning_curve(X_train,y_train,X_val,y_val,lmd):\n",
    "    x = range(1,len(X_train)+1)\n",
    "    training_cost = []\n",
    "    cv_cost = []\n",
    "    \n",
    "    for i in x:\n",
    "        res_theta = train_model(X_train[:i,:],y_train[:i,:],lmd)#每次循环取出i个样本来计算求theta\n",
    "        training_cost_i = reg_cost(res_theta,X_train[:i,:],y_train[:i,:],lmd)\n",
    "        cv_cost_i = reg_cost(res_theta,X_val,y_val,lmd)\n",
    "        training_cost.append(training_cost_i)\n",
    "        cv_cost.append(cv_cost_i)\n",
    "    \n",
    "    plt.plot(x,training_cost,label = 'training cost')\n",
    "    plt.plot(x,cv_cost,label = 'cv cost')\n",
    "    plt.legend()\n",
    "    plt.xlabel('number of example')\n",
    "    plt.ylabel('error')\n",
    "    plt.show()"
   ]
  },
  {
   "cell_type": "code",
   "execution_count": 17,
   "metadata": {},
   "outputs": [
    {
     "data": {
      "image/png": "[encoded data removed]",
      "text/plain": [
       "<Figure size 432x288 with 1 Axes>"
      ]
     },
     "metadata": {
      "needs_background": "light"
     },
     "output_type": "display_data"
    }
   ],
   "source": [
    "plot_learning_curve(X_train,y_train,X_val,y_val,lmd=0)"
   ]
  },
  {
   "cell_type": "markdown",
   "metadata": {},
   "source": [
    "可以看出这个模型是高偏差的，表示欠拟合。\n",
    "为了解决这个问题可以采用多项式特征"
   ]
  },
  {
   "cell_type": "markdown",
   "metadata": {},
   "source": [
    "### 5.特征多项式及归一化 "
   ]
  },
  {
   "cell_type": "code",
   "execution_count": 18,
   "metadata": {},
   "outputs": [],
   "source": [
    "#构造多项式特征\n",
    "def poly_feature(X,power):\n",
    "    for i in range(2,power+1):\n",
    "        X = np.insert(X,X.shape[1],np.power(X[:,1],i),axis=1) #在X每一行后面添加该行值的i次方的数\n",
    "    return X"
   ]
  },
  {
   "cell_type": "code",
   "execution_count": 19,
   "metadata": {},
   "outputs": [
    {
     "data": {
      "text/plain": [
       "array([[ 1.00000000e+00, -1.59367581e+01,  2.53980260e+02,\n",
       "        -4.04762197e+03,  6.45059724e+04, -1.02801608e+06,\n",
       "         1.63832436e+07],\n",
       "       [ 1.00000000e+00, -2.91529792e+01,  8.49896197e+02,\n",
       "        -2.47770062e+04,  7.22323546e+05, -2.10578833e+07,\n",
       "         6.13900035e+08],\n",
       "       [ 1.00000000e+00,  3.61895486e+01,  1.30968343e+03,\n",
       "         4.73968522e+04,  1.71527069e+06,  6.20748719e+07,\n",
       "         2.24646160e+09],\n",
       "       [ 1.00000000e+00,  3.74921873e+01,  1.40566411e+03,\n",
       "         5.27014222e+04,  1.97589159e+06,  7.40804977e+07,\n",
       "         2.77743990e+09],\n",
       "       [ 1.00000000e+00, -4.80588295e+01,  2.30965109e+03,\n",
       "        -1.10999128e+05,  5.33448815e+06, -2.56369256e+08,\n",
       "         1.23208064e+10],\n",
       "       [ 1.00000000e+00, -8.94145794e+00,  7.99496701e+01,\n",
       "        -7.14866612e+02,  6.39194974e+03, -5.71533498e+04,\n",
       "         5.11034273e+05],\n",
       "       [ 1.00000000e+00,  1.53077929e+01,  2.34328523e+02,\n",
       "         3.58705250e+03,  5.49098568e+04,  8.40548715e+05,\n",
       "         1.28669456e+07],\n",
       "       [ 1.00000000e+00, -3.47062658e+01,  1.20452489e+03,\n",
       "        -4.18045609e+04,  1.45088020e+06, -5.03546340e+07,\n",
       "         1.74762131e+09],\n",
       "       [ 1.00000000e+00,  1.38915437e+00,  1.92974986e+00,\n",
       "         2.68072045e+00,  3.72393452e+00,  5.17311991e+00,\n",
       "         7.18626212e+00],\n",
       "       [ 1.00000000e+00, -4.43837599e+01,  1.96991814e+03,\n",
       "        -8.74323736e+04,  3.88057747e+06, -1.72234619e+08,\n",
       "         7.64441995e+09],\n",
       "       [ 1.00000000e+00,  7.01350208e+00,  4.91892115e+01,\n",
       "         3.44988637e+02,  2.41957852e+03,  1.69697190e+04,\n",
       "         1.19017160e+05],\n",
       "       [ 1.00000000e+00,  2.27627489e+01,  5.18142738e+02,\n",
       "         1.17943531e+04,  2.68471897e+05,  6.11115839e+06,\n",
       "         1.39106764e+08]])"
      ]
     },
     "execution_count": 19,
     "metadata": {},
     "output_type": "execute_result"
    }
   ],
   "source": [
    "#查看一下\n",
    "poly_feature(X_train,6)"
   ]
  },
  {
   "cell_type": "code",
   "execution_count": 20,
   "metadata": {},
   "outputs": [],
   "source": [
    "#获取均值和方差来进行多项式归一化\n",
    "def get_means_stds(X):\n",
    "    means = np.mean(X,axis=0) #按照行的方向获得均值\n",
    "    stds = np.std(X,axis=0)\n",
    "    return means,stds"
   ]
  },
  {
   "cell_type": "code",
   "execution_count": 21,
   "metadata": {},
   "outputs": [],
   "source": [
    "#归一化处理\n",
    "def feature_normalize(X,means,stds):\n",
    "    X[:,1:] = (X[:,1:] - means[1:])/stds[1:] \n",
    "    return X"
   ]
  },
  {
   "cell_type": "code",
   "execution_count": 22,
   "metadata": {},
   "outputs": [],
   "source": [
    "#对训练集，验证集和测试集构造特征多项式\n",
    "power = 8    #扩展特征到8\n",
    "X_train_poly = poly_feature(X_train,power)\n",
    "X_val_poly = poly_feature(X_val,power)\n",
    "X_test_poly = poly_feature(X_test,power)"
   ]
  },
  {
   "cell_type": "code",
   "execution_count": 23,
   "metadata": {},
   "outputs": [],
   "source": [
    "#获取训练集，验证集和测试集的方差和均值\n",
    "X_train_means,X_train_stds = get_means_stds(X_train_poly)\n",
    "X_val_means,X_val_stds = get_means_stds(X_val_poly)\n",
    "X_test_means,X_test_stds = get_means_stds(X_test_poly)"
   ]
  },
  {
   "cell_type": "code",
   "execution_count": 24,
   "metadata": {},
   "outputs": [],
   "source": [
    "#归一化训练集，验证集和测试集\n",
    "X_train_norm = feature_normalize(X_train_poly,X_train_means,X_train_stds)\n",
    "X_val_norm = feature_normalize(X_val_poly,X_val_means,X_val_stds)\n",
    "X_test_norm = feature_normalize(X_test_poly,X_test_means,X_test_stds)"
   ]
  },
  {
   "cell_type": "code",
   "execution_count": 25,
   "metadata": {},
   "outputs": [],
   "source": [
    "#计算归一化后的theta值，lmd这时取0表示不添加正则项\n",
    "theta_fit = train_model(X_train_norm,y_train,lmd=0)"
   ]
  },
  {
   "cell_type": "code",
   "execution_count": 26,
   "metadata": {},
   "outputs": [],
   "source": [
    "#画出此时拟合的图像\n",
    "def plot_poly_fit():\n",
    "    plot_data()\n",
    "    \n",
    "    x = np.linspace(-60,60,100)\n",
    "    xx = x.reshape(100,1)\n",
    "    xx = np.insert(xx,0,1,axis=1)\n",
    "    xx = poly_feature(xx,power)\n",
    "    xx_means,xx_stds = get_means_stds(xx)\n",
    "    xx = feature_normalize(xx,xx_means,xx_stds)####\n",
    "    \n",
    "    plt.plot(x,xx@theta_fit,'r--')"
   ]
  },
  {
   "cell_type": "code",
   "execution_count": 27,
   "metadata": {
    "scrolled": true
   },
   "outputs": [
    {
     "data": {
      "image/png": "[encoded data removed]",
      "text/plain": [
       "<Figure size 432x288 with 1 Axes>"
      ]
     },
     "metadata": {
      "needs_background": "light"
     },
     "output_type": "display_data"
    }
   ],
   "source": [
    "plot_poly_fit()"
   ]
  },
  {
   "cell_type": "code",
   "execution_count": 28,
   "metadata": {},
   "outputs": [
    {
     "data": {
      "image/png": "[encoded data removed]",
      "text/plain": [
       "<Figure size 432x288 with 1 Axes>"
      ]
     },
     "metadata": {
      "needs_background": "light"
     },
     "output_type": "display_data"
    }
   ],
   "source": [
    "#此时的学习曲线\n",
    "plot_learning_curve(X_train_norm,y_train,X_val_norm,y_val,lmd=0)"
   ]
  },
  {
   "cell_type": "markdown",
   "metadata": {},
   "source": [
    "训练代价太低，过拟合了。可以改变正则化项来调整"
   ]
  },
  {
   "cell_type": "markdown",
   "metadata": {},
   "source": [
    "### 6.调整正则化系数$\\lambda$ 的值"
   ]
  },
  {
   "cell_type": "markdown",
   "metadata": {},
   "source": [
    "#### $\\lambda = 1$ "
   ]
  },
  {
   "cell_type": "code",
   "execution_count": 29,
   "metadata": {},
   "outputs": [
    {
     "data": {
      "image/png": "[encoded data removed]",
      "text/plain": [
       "<Figure size 432x288 with 1 Axes>"
      ]
     },
     "metadata": {
      "needs_background": "light"
     },
     "output_type": "display_data"
    },
    {
     "data": {
      "image/png": "[encoded data removed]",
      "text/plain": [
       "<Figure size 432x288 with 1 Axes>"
      ]
     },
     "metadata": {
      "needs_background": "light"
     },
     "output_type": "display_data"
    }
   ],
   "source": [
    "lmd = 1\n",
    "plot_learning_curve(X_train_norm,y_train,X_val_norm,y_val,lmd)\n",
    "theta_fit = train_model(X_train_norm,y_train,lmd)\n",
    "plot_poly_fit()"
   ]
  },
  {
   "cell_type": "markdown",
   "metadata": {},
   "source": [
    " 训练代价不再是0了，也就是说我们减轻**过拟合**"
   ]
  },
  {
   "cell_type": "markdown",
   "metadata": {},
   "source": [
    "#### $\\lambda = 100$ "
   ]
  },
  {
   "cell_type": "code",
   "execution_count": 30,
   "metadata": {},
   "outputs": [
    {
     "data": {
      "image/png": "[encoded data removed]",
      "text/plain": [
       "<Figure size 432x288 with 1 Axes>"
      ]
     },
     "metadata": {
      "needs_background": "light"
     },
     "output_type": "display_data"
    },
    {
     "data": {
      "image/png": "[encoded data removed]",
      "text/plain": [
       "<Figure size 432x288 with 1 Axes>"
      ]
     },
     "metadata": {
      "needs_background": "light"
     },
     "output_type": "display_data"
    }
   ],
   "source": [
    "lmd = 100\n",
    "plot_learning_curve(X_train_norm,y_train,X_val_norm,y_val,lmd)\n",
    "theta_fit = train_model(X_train_norm,y_train,lmd)\n",
    "plot_poly_fit()"
   ]
  },
  {
   "cell_type": "markdown",
   "metadata": {},
   "source": [
    "太多正则化惩罚太多，变成 **欠拟合**状态"
   ]
  },
  {
   "cell_type": "markdown",
   "metadata": {},
   "source": [
    "### 7.选取合适的$\\lambda$的值 "
   ]
  },
  {
   "cell_type": "code",
   "execution_count": 31,
   "metadata": {},
   "outputs": [],
   "source": [
    "lmds = [0,0.001,0.003,0.01,0.03,0.1,0.3,1,3,10]\n",
    "training_cost = []\n",
    "cv_cost = []\n",
    "\n",
    "for lmd in lmds:\n",
    "    res = train_model(X_train_norm,y_train,lmd)\n",
    "    tc = reg_cost(res,X_train_norm,y_train,lmd=0)\n",
    "    cv = reg_cost(res,X_val_norm,y_val,lmd=0)\n",
    "    training_cost.append(tc)\n",
    "    cv_cost.append(cv)"
   ]
  },
  {
   "cell_type": "code",
   "execution_count": 32,
   "metadata": {},
   "outputs": [
    {
     "data": {
      "image/png": "[encoded data removed]",
      "text/plain": [
       "<Figure size 432x288 with 1 Axes>"
      ]
     },
     "metadata": {
      "needs_background": "light"
     },
     "output_type": "display_data"
    }
   ],
   "source": [
    "plt.plot(lmds,training_cost,label='training cost')\n",
    "plt.plot(lmds,cv_cost,label='cv cost')\n",
    "plt.legend()\n",
    "plt.show()"
   ]
  },
  {
   "cell_type": "code",
   "execution_count": 33,
   "metadata": {},
   "outputs": [
    {
     "name": "stdout",
     "output_type": "stream",
     "text": [
      "test cost(lmd=0) = 11.045388758597117\n",
      "test cost(lmd=0.001) = 11.11317506836481\n",
      "test cost(lmd=0.003) = 11.312251841569386\n",
      "test cost(lmd=0.01) = 10.987793358695388\n",
      "test cost(lmd=0.03) = 10.218965289969265\n",
      "test cost(lmd=0.1) = 8.95392653501103\n",
      "test cost(lmd=0.3) = 7.7451853754550015\n",
      "test cost(lmd=1) = 7.851562250636016\n",
      "test cost(lmd=3) = 11.770308905064539\n",
      "test cost(lmd=10) = 26.894076369178887\n"
     ]
    }
   ],
   "source": [
    "#此时对应test集的代价\n",
    "for i in lmds:\n",
    "    res = train_model(X_train_norm,y_train,lmd=i)\n",
    "    test_cost = reg_cost(res,X_test_norm,y_test,lmd=0)    \n",
    "    print('test cost(lmd={}) = {}'.format(i, test_cost))"
   ]
  },
  {
   "cell_type": "markdown",
   "metadata": {},
   "source": [
    "可以看到当**lmd=0.3**时test cost最小，这是最优解了。"
   ]
  }
 ],
 "metadata": {
  "kernelspec": {
   "display_name": "Python 3",
   "language": "python",
   "name": "python3"
  },
  "language_info": {
   "codemirror_mode": {
    "name": "ipython",
    "version": 3
   },
   "file_extension": ".py",
   "mimetype": "text/x-python",
   "name": "python",
   "nbconvert_exporter": "python",
   "pygments_lexer": "ipython3",
   "version": "3.7.4"
  }
 },
 "nbformat": 4,
 "nbformat_minor": 2
}
